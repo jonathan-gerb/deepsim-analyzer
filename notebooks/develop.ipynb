{
 "cells": [
  {
   "cell_type": "code",
   "execution_count": 14,
   "metadata": {},
   "outputs": [],
   "source": [
    "# import package\n",
    "import deepsim_analyzer as da"
   ]
  },
  {
   "cell_type": "code",
   "execution_count": 21,
   "metadata": {},
   "outputs": [
    {
     "name": "stdout",
     "output_type": "stream",
     "text": [
      "similarity between images: 0.9999999999999641\n",
      "image feature vectors are the same after saving/reading: True\n"
     ]
    }
   ],
   "source": [
    "dataset_path = \"../data/processed/test_dataset.h5\"\n",
    "image_folder = \"../data/raw/\"\n",
    "\n",
    "# create dataset from folder of images, initializes hashes for all images\n",
    "da.io.create_dataset(\"../data/raw/\", dataset_path)\n",
    "\n",
    "# read images\n",
    "img_array1 = da.io.load_image(\"../data/raw_immutable/Branches_with_Almond_Blossom.png\")\n",
    "img_array2 = da.io.load_image(\"../data/raw_immutable/nighthawks.png\")\n",
    "\n",
    "# get similarity between images, features are calculated on the fly\n",
    "# probably not what we want to do usually, but a short demonstration\n",
    "similarity = da.similarity_methods.dummy.get_similarity_image(img_array1, img_array2)\n",
    "print(f\"similarity between images: {similarity}\")\n",
    "\n",
    "# calculate (dummy) feature vectors.\n",
    "feature_vector_1 = da.similarity_methods.dummy.calculate_feature_vector(img_array1)\n",
    "feature_vector_2 = da.similarity_methods.dummy.calculate_feature_vector(img_array2)\n",
    "\n",
    "# calculate hash\n",
    "hash_1 = da.io.get_image_hash(img_array1)\n",
    "hash_2 = da.io.get_image_hash(img_array2)\n",
    "\n",
    "# save feature_vectors using hash\n",
    "da.io.save_feature(dataset_path, hash_1, feature_vector_1, \"dummy\")\n",
    "da.io.save_feature(dataset_path, hash_2, feature_vector_1, \"dummy\")\n",
    "\n",
    "# read feature vectors for image using hash\n",
    "feature_read = da.io.read_feature(dataset_path, hash_1, \"dummy\")\n",
    "\n",
    "# they are the same :P\n",
    "print(f\"image feature vectors are the same after saving/reading: {all(feature_read == feature_vector_1)}\")"
   ]
  },
  {
   "cell_type": "code",
   "execution_count": null,
   "metadata": {},
   "outputs": [],
   "source": []
  }
 ],
 "metadata": {
  "kernelspec": {
   "display_name": "mma",
   "language": "python",
   "name": "python3"
  },
  "language_info": {
   "codemirror_mode": {
    "name": "ipython",
    "version": 3
   },
   "file_extension": ".py",
   "mimetype": "text/x-python",
   "name": "python",
   "nbconvert_exporter": "python",
   "pygments_lexer": "ipython3",
   "version": "3.11.3"
  },
  "orig_nbformat": 4
 },
 "nbformat": 4,
 "nbformat_minor": 2
}
