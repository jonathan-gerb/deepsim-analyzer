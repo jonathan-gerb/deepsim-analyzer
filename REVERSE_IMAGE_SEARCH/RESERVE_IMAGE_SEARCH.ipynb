{
 "cells": [
  {
   "cell_type": "code",
   "execution_count": 83,
   "id": "830e37e4",
   "metadata": {},
   "outputs": [],
   "source": [
    "from serpapi import GoogleSearch\n",
    "import json\n",
    "from IPython.display import Image"
   ]
  },
  {
   "cell_type": "code",
   "execution_count": 89,
   "id": "19b98e58",
   "metadata": {
    "scrolled": true
   },
   "outputs": [],
   "source": [
    "## MAIN SEARCH FUNCTION USING SERPAPI\n",
    "def search_image(image_url:str, API_key:str):\n",
    "    \n",
    "    \"\"\"\n",
    "    Inputs:\n",
    "        image_url: url link for the image you want to search\n",
    "        API: serpAPI key (following instruction on README)\n",
    "    \n",
    "    Return: \n",
    "        dictionary containing all information from google\n",
    "    \"\"\"\n",
    "    \n",
    "    params = {\n",
    "        \"api_key\": API_key ,                # https://serpapi.com/manage-api-key\n",
    "        \"engine\": \"google_reverse_image\",   # SerpApi search engine\n",
    "        \"image_url\": image_url,             # image URL to perform a reverse search\n",
    "        \"location\": \"Dallas\",               # location from where search comes from\n",
    "        \"hl\": \"en\",                         # language of the search\n",
    "        \"gl\": \"us\"                          # country of the search\n",
    "    }\n",
    "\n",
    "    search = GoogleSearch(params)           # where data extraction happens on the SerpApi backend\n",
    "    results = search.get_dict()             # JSON -> Python dictionary\n",
    "\n",
    "    return results"
   ]
  },
  {
   "cell_type": "code",
   "execution_count": 90,
   "id": "e7dcda3a",
   "metadata": {},
   "outputs": [],
   "source": [
    "## FUNCTION TO RETRIEVE WIKI LINK FROM THE RESULTS RETURN BY 'search_image'\n",
    "def retrieve_wiki(result:dict):\n",
    "    \n",
    "    \"\"\"\n",
    "    Input:\n",
    "        result: dictionary returned by function 'search_image'\n",
    "    \n",
    "    Return: \n",
    "        wikipedia page link related to the searched image\n",
    "    \"\"\"  \n",
    "    \n",
    "    image_results = result['image_results']\n",
    "    wiki_result = [image_results[i] for i in range(len(image_results)) if 'Wikipedia' in image_results[i]['title']][0]\n",
    "    wiki_link = wiki_result['link']\n",
    "    return wiki_link"
   ]
  },
  {
   "cell_type": "code",
   "execution_count": 91,
   "id": "7a5f546b",
   "metadata": {},
   "outputs": [
    {
     "data": {
      "text/html": [
       "<img src=\"https://upload.wikimedia.org/wikipedia/commons/6/6a/Mona_Lisa.jpg\" width=\"300\" height=\"200\"/>"
      ],
      "text/plain": [
       "<IPython.core.display.Image object>"
      ]
     },
     "execution_count": 91,
     "metadata": {},
     "output_type": "execute_result"
    }
   ],
   "source": [
    "## Define an image URL\n",
    "## Here the image url format needs some attention since not all file host generated URL works\n",
    "## For example, Google Drive and github link do not work\n",
    "image_url = \"https://upload.wikimedia.org/wikipedia/commons/6/6a/Mona_Lisa.jpg\"\n",
    "\n",
    "## Display image\n",
    "Image(url=image_url, width=300, height=200)"
   ]
  },
  {
   "cell_type": "code",
   "execution_count": 93,
   "id": "414a7ce3",
   "metadata": {},
   "outputs": [],
   "source": [
    "## Define API key\n",
    "API_key = ..."
   ]
  },
  {
   "cell_type": "code",
   "execution_count": 60,
   "id": "573fbe8f",
   "metadata": {},
   "outputs": [],
   "source": [
    "result = search_image(image_url, API_key)"
   ]
  },
  {
   "cell_type": "code",
   "execution_count": 80,
   "id": "31712c92",
   "metadata": {
    "scrolled": true
   },
   "outputs": [
    {
     "data": {
      "text/plain": [
       "[{'position': 1,\n",
       "  'title': 'Essay on Mona Lisa - Bartleby.com',\n",
       "  'link': 'https://www.bartleby.com/topics/Essay-on-Mona-Lisa',\n",
       "  'displayed_link': 'https://www.bartleby.com › topics › Essay-on-Mona-L...',\n",
       "  'snippet': 'Free Essays from Bartleby | The Mona Lisa is a painting done by Leonardo Da Vinci within the years of 1503 and 1519, done in Florence Italy. The subject in.',\n",
       "  'snippet_highlighted_words': ['Essays', 'Mona Lisa', 'painting'],\n",
       "  'cached_page_link': 'https://webcache.googleusercontent.com/search?q=cache:Pw4R4HDh0BUJ:https://www.bartleby.com/topics/Essay-on-Mona-Lisa&cd=1&hl=en&ct=clnk&gl=us&client=firefox-b-d',\n",
       "  'related_pages_link': 'https://www.google.com/search?client=firefox-b-d&hl=en&gl=us&q=related:https://www.bartleby.com/topics/Essay-on-Mona-Lisa&sa=X&ved=2ahUKEwiUnpvGvLr_AhV0sjEKHVPVAvcQH3oECAgQDg',\n",
       "  'source': 'Bartleby.com'},\n",
       " {'position': 2,\n",
       "  'title': 'Overview Of The Mona Lisa Art Essay',\n",
       "  'link': 'https://us.ukessays.com/essays/arts/overview-of-the-mona-lisa-art-essay.php',\n",
       "  'displayed_link': 'https://us.ukessays.com › essays › arts › overview-of-t...',\n",
       "  'date': 'Jan 1, 2015',\n",
       "  'snippet': 'Mona Lisa painting shows a woman whose facial expression is enigmatic. The half-length portrait shows a woman who is gazing at the viewer with a ...',\n",
       "  'snippet_highlighted_words': ['Mona Lisa painting', 'portrait'],\n",
       "  'cached_page_link': 'https://webcache.googleusercontent.com/search?q=cache:cwVtOiBPaNMJ:https://us.ukessays.com/essays/arts/overview-of-the-mona-lisa-art-essay.php&cd=2&hl=en&ct=clnk&gl=us&client=firefox-b-d',\n",
       "  'related_pages_link': 'https://www.google.com/search?client=firefox-b-d&hl=en&gl=us&q=related:https://us.ukessays.com/essays/arts/overview-of-the-mona-lisa-art-essay.php&sa=X&ved=2ahUKEwiUnpvGvLr_AhV0sjEKHVPVAvcQH3oECAsQDg',\n",
       "  'source': 'UK Essays'},\n",
       " {'position': 3,\n",
       "  'title': 'Art History. Mona Lisa by Leonardo da Vinci - StudyCorgi.com',\n",
       "  'link': 'https://studycorgi.com/art-history-mona-lisa-by-leonardo-da-vinci/',\n",
       "  'displayed_link': 'https://studycorgi.com › 🖼️ Art',\n",
       "  'thumbnail': 'https://serpapi.com/searches/64855a0234ff95531ffdfece/images/1ba2442c6854374c6f902094db95b53dfe36cc78de8924312721855e5dcdcd19.jpeg',\n",
       "  'image_resolution': '1652 × 2500',\n",
       "  'date': 'Jan 20, 2022',\n",
       "  'snippet': 'The Mona Lisa strikes me as a painting that is simple and incredibly complex at the same time. I think that while the main purpose of the ...',\n",
       "  'snippet_highlighted_words': ['Mona Lisa', 'painting', 'the'],\n",
       "  'cached_page_link': 'https://webcache.googleusercontent.com/search?q=cache:p6SDF4HSdHkJ:https://studycorgi.com/art-history-mona-lisa-by-leonardo-da-vinci/&cd=30&hl=en&ct=clnk&gl=us&client=firefox-b-d',\n",
       "  'source': 'StudyCorgi.com'},\n",
       " {'position': 4,\n",
       "  'title': 'Great Moments in Art (Part I) - PRINT Magazine',\n",
       "  'link': 'https://www.printmag.com/daily-heller/great-moments-in-art-part-i/',\n",
       "  'displayed_link': 'https://www.printmag.com › daily-heller › great-mom...',\n",
       "  'thumbnail': 'https://serpapi.com/searches/64855a0234ff95531ffdfece/images/1ba2442c6854374cd16227e8237da5d8b59681d0b1cdcbd425e0b8c38d4af81d.jpeg',\n",
       "  'image_resolution': '1568 × 2372',\n",
       "  'date': 'Jan 26, 2010',\n",
       "  'snippet': 'By: Steven Heller | January 26, 2010 To begin our occasional series of great artworks: Leonardo Da Vinci began painting the Mona Lisa in ...',\n",
       "  'snippet_highlighted_words': ['painting', 'Mona Lisa'],\n",
       "  'cached_page_link': 'https://webcache.googleusercontent.com/search?q=cache:wsAw-MOkrxEJ:https://www.printmag.com/daily-heller/great-moments-in-art-part-i/&cd=31&hl=en&ct=clnk&gl=us&client=firefox-b-d',\n",
       "  'source': 'PRINT Magazine'},\n",
       " {'position': 5,\n",
       "  'title': 'New Secrets About Mona Lisa Revealed | Barnebys Magazine',\n",
       "  'link': 'https://www.barnebys.com/blog/secrets-about-mona-lisa-revealed',\n",
       "  'displayed_link': 'https://www.barnebys.com › blog › secrets-about-mon...',\n",
       "  'thumbnail': 'https://serpapi.com/searches/64855a0234ff95531ffdfece/images/1ba2442c6854374cb1d0dd03e34cf33a442f905fc055c1925899960a8948957e.jpeg',\n",
       "  'image_resolution': '900 × 1341',\n",
       "  'date': 'Oct 14, 2020',\n",
       "  'snippet': 'In the sfumato painting style, da Vinci completely dispenses with drawn outlines and creates contours exclusively through painterly means, which ...',\n",
       "  'snippet_highlighted_words': ['painting'],\n",
       "  'cached_page_link': 'https://webcache.googleusercontent.com/search?q=cache:CzlK8uI-FCMJ:https://www.barnebys.com/blog/secrets-about-mona-lisa-revealed&cd=32&hl=en&ct=clnk&gl=us&client=firefox-b-d',\n",
       "  'source': 'Barnebys'},\n",
       " {'position': 6,\n",
       "  'title': 'File:Mona Lisa, by Leonardo da Vinci, from C2RMF Repaired ...',\n",
       "  'link': 'https://commons.wikimedia.org/wiki/File:Mona_Lisa,_by_Leonardo_da_Vinci,_from_C2RMF_Repaired.jpg',\n",
       "  'displayed_link': 'https://commons.wikimedia.org › wiki',\n",
       "  'thumbnail': 'https://serpapi.com/searches/64855a0234ff95531ffdfece/images/1ba2442c6854374ca6d68f7ada75728b651be866d27e52a5fbe721ff85f29f17.jpeg',\n",
       "  'image_resolution': '1374 × 2048',\n",
       "  'snippet': 'The Mona Lisa (or La Joconde, La Gioconda). Object type, painting · Edit this at Wikidata. Genre, portrait · Edit this at Wikidata. Description.',\n",
       "  'snippet_highlighted_words': ['Mona Lisa', 'painting', 'portrait'],\n",
       "  'cached_page_link': 'https://webcache.googleusercontent.com/search?q=cache:TebO8uuuPXQJ:https://commons.wikimedia.org/wiki/File:Mona_Lisa,_by_Leonardo_da_Vinci,_from_C2RMF_Repaired.jpg&cd=33&hl=en&ct=clnk&gl=us&client=firefox-b-d',\n",
       "  'related_pages_link': 'https://www.google.com/search?client=firefox-b-d&hl=en&gl=us&q=related:https://commons.wikimedia.org/wiki/File:Mona_Lisa,_by_Leonardo_da_Vinci,_from_C2RMF_Repaired.jpg&sa=X&ved=2ahUKEwiUnpvGvLr_AhV0sjEKHVPVAvcQH3oECC4QDg',\n",
       "  'source': 'Wikimedia'},\n",
       " {'position': 7,\n",
       "  'title': 'Wikipedia:Featured picture candidates/Mona Lisa',\n",
       "  'link': 'https://en.wikipedia.org/wiki/Wikipedia:Featured_picture_candidates/Mona_Lisa',\n",
       "  'displayed_link': 'https://en.wikipedia.org › wiki › Mona_Lisa',\n",
       "  'thumbnail': 'https://serpapi.com/searches/64855a0234ff95531ffdfece/images/1ba2442c6854374cf961337b58f824ddd87b8ac49ffd33a0ed4527ab21e6c8c8.jpeg',\n",
       "  'image_resolution': '2835 × 4289',\n",
       "  'snippet': 'It seems self-evident that the Mona Lisa should be included in Wikipedia:Featured_pictures/Artwork. It is probably the best-known painting of all time.',\n",
       "  'snippet_highlighted_words': ['Mona Lisa', 'Artwork', 'painting'],\n",
       "  'cached_page_link': 'https://webcache.googleusercontent.com/search?q=cache:F4iIZMz59-sJ:https://en.wikipedia.org/wiki/Wikipedia:Featured_picture_candidates/Mona_Lisa&cd=34&hl=en&ct=clnk&gl=us&client=firefox-b-d',\n",
       "  'related_pages_link': 'https://www.google.com/search?client=firefox-b-d&hl=en&gl=us&q=related:https://en.wikipedia.org/wiki/Wikipedia:Featured_picture_candidates/Mona_Lisa&sa=X&ved=2ahUKEwiUnpvGvLr_AhV0sjEKHVPVAvcQH3oECC0QDg',\n",
       "  'source': 'Wikipedia'}]"
      ]
     },
     "execution_count": 80,
     "metadata": {},
     "output_type": "execute_result"
    }
   ],
   "source": [
    "## Value in key: 'image_results' contains some web links to this image including wikipedia\n",
    "## However, sometimes the wiki link is a Featured picture candidates link which is an archive \n",
    "## contains all opinions and comments collected for candidate nominations and their nomination \n",
    "## results, therefore less informative than other links in this key, such as this case:\n",
    "result['image_results']"
   ]
  },
  {
   "cell_type": "code",
   "execution_count": 81,
   "id": "dbbefd97",
   "metadata": {},
   "outputs": [],
   "source": [
    "## Retrieve wiki link\n",
    "wiki_link = retrieve_wiki(result)"
   ]
  },
  {
   "cell_type": "code",
   "execution_count": 82,
   "id": "796a34de",
   "metadata": {
    "scrolled": true
   },
   "outputs": [
    {
     "data": {
      "text/plain": [
       "'https://en.wikipedia.org/wiki/Wikipedia:Featured_picture_candidates/Mona_Lisa'"
      ]
     },
     "execution_count": 82,
     "metadata": {},
     "output_type": "execute_result"
    }
   ],
   "source": [
    "wiki_link"
   ]
  },
  {
   "cell_type": "code",
   "execution_count": null,
   "id": "fcd04d4a",
   "metadata": {},
   "outputs": [],
   "source": []
  }
 ],
 "metadata": {
  "kernelspec": {
   "display_name": "Python 3 (ipykernel)",
   "language": "python",
   "name": "python3"
  },
  "language_info": {
   "codemirror_mode": {
    "name": "ipython",
    "version": 3
   },
   "file_extension": ".py",
   "mimetype": "text/x-python",
   "name": "python",
   "nbconvert_exporter": "python",
   "pygments_lexer": "ipython3",
   "version": "3.9.0"
  }
 },
 "nbformat": 4,
 "nbformat_minor": 5
}
